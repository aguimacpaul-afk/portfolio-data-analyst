import pandas as pd
import matplotlib.pyplot as plt
import seaborn as sns

measurement_path = '/home/panda/Desktop/ia/github/AIR Broklin/measurements.csv'
stations_path = '/home/panda/Desktop/ia/github/AIR Broklin/stations.csv'

# 1 Número de registros y columnas.

df_measurement = pd.read_csv(measurement_path) #1391,15
#reestructuramos el df_measurement por repeticion de nombre de columnas 696
df_measurement = df_measurement.drop(696)
"""
  location_id   location_name parameter  ... isMonitor owner_name     provider
0     3041962  Near Bay 50 St      pm25  ...       NaN  Sebastian  AirGradient
1     3041962  Near Bay 50 St      pm25  ...       NaN  Sebastian  AirGradient
2     3041962  Near Bay 50 St      pm25  ...       NaN  Sebastian  AirGradient
3     3041962  Near Bay 50 St      pm25  ...       NaN  Sebastian  AirGradient
4     3041962  Near Bay 50 St      pm25  ...       NaN  Sebastian  AirGradient
5     3041962  Near Bay 50 St      pm25  ...       NaN  Sebastian  AirGradient
6     3041962  Near Bay 50 St      pm25  ...       NaN  Sebastian  AirGradient
7     3041962  Near Bay 50 St      pm25  ...       NaN  Sebastian  AirGradient
8     3041962  Near Bay 50 St      pm25  ...       NaN  Sebastian  AirGradient
9     3041962  Near Bay 50 St      pm25  ...       NaN  Sebastian  AirGradient"""

df_stations = pd.read_csv(stations_path) # 2,6
"""
   station_id      station_name  ...                      sensor_type  source
0     3041962  \tNear Bay 50 St  ...       \t\nAir sensor\nStationary  OpenAQ
1         648    Bklyn - PS 314  ...  \t\nReference grade\nStationary  OpenAQ"""

# 1 Valores nulos o faltantes.

measurements_nulos = df_measurement.isnull().sum()
total_measurements_nulos = measurements_nulos.sum() #4173
"""
location_id         0
location_name       0
parameter           0
value               0
unit                0
datetimeUtc         0
datetimeLocal       0
timezone            0
latitude            0
longitude           0
country_iso      1391
isMobile         1391
isMonitor        1391
owner_name          0
provider            0"""
stations_nulos = df_stations.isnull().sum() # 0

# 1 Duplicados.

measurements_duplicados = df_measurement.duplicated().sum() # 0
stations_duplicados = df_stations.duplicated().sum() # 0

# 2 ANALISIS DESCRIPTIVOS

#cambiar a numeric 3 value, 8 latitude, 9 longitude
for i in ['value', 'latitude', 'longitude']:
	df_measurement[i] = pd.to_numeric(df_measurement[i], errors='coerce')

# 2 Promedio, mínimo, máximo y desviación estándar de las variables numéricas en measurements.csv. en base a location
variables_numericas = df_measurement[['value','latitude','longitude']]

analisis_location = df_measurement.groupby('location_name').agg(
	value_max =('value', 'max'),
	value_min=('value','min'),
	value_media=('value','mean'),
	value_std= ('value','std')
	)
# 35 medida maxima recomendada
"""
                value_max  value_min  value_media  value_std
location_name                                               
Bklyn - PS 314  41.800000   1.400000     8.937698   6.522755
Near Bay 50 St  49.458333   0.416667    15.159765  11.894931"""

# chequear latitudes que tienen mas de 35 pm2.5

#no_entrar = df_measurement[['latitude','longitude'][df_measurement.value > 35]]

no_entrar = df_measurement.loc[df_measurement.value > 35, ['latitude','longitude','value']]

#value vs date
df_measurement['datetimeLocal'] = pd.to_datetime(df_measurement['datetimeLocal'])

df_measurement_agost = df_measurement[
						~((df_measurement['datetimeLocal'].dt.year == 2025) &
						   (df_measurement['datetimeLocal'].dt.month == 7)	)
						]

media_agost = df_measurement_agost.groupby(df_measurement_agost.datetimeLocal.dt.day).agg(
	value_max = ('value', 'max'),
	value_min = ('value', 'min'),
	value_media = ('value','mean')
	)

"""
               value_max  value_min  value_media
datetimeLocal                                   
1              43.875000   1.250000    13.769504
2              38.041667   6.600000    19.063889
3              33.125000   7.600000    16.346007
4              39.375000   9.600000    24.052951
5              49.458333  17.900000    34.374826
6              46.083333   6.200000    23.159375
7              44.666667   2.750000    13.619618
8               8.583333   3.208333     5.996354
9              14.541667   4.458333     8.623611"""

# value media todo brooklin vs date 8
"""
plt.figure(figsize=(10,6), num="Brooklin PM2.5 media - August")
sns.barplot(data=media_agost, x='datetimeLocal', y='value_media' )
plt.title('Brooklin PM2.5 media vs August \n')
plt.xlabel('Dia')
plt.ylabel('Valor medio')
plt.axhline(y=35, color='red', linestyle='--', linewidth=2, label='Limite max permitido')
plt.legend()
plt.show()
"""
# valor medio por sector de brooklin -- location_ location_name
"""location_name
Near Bay 50 St    693
Bklyn - PS 314    692"""

df_measurement_bay = df_measurement_agost[
	~(df_measurement_agost.location_name == 'Bklyn - PS 314')
]

media_bay = df_measurement_bay.groupby(df_measurement_bay.datetimeLocal.dt.day).agg(
	value_max = ('value', 'max'),
	value_min = ('value', 'min'),
	value_media = ('value','mean'),
	alerta = ('value',lambda x: (x>35).sum())
	)
"""
plt.figure(figsize=(10,6), num="Brookin bay PM2.5 media - August")
sns.barplot(data=media_bay, x='datetimeLocal', y='value_media' )
plt.title('Brooklin Bay PM2.5 Media vs August \n')
plt.axhline(y=35, color='red', linestyle='--', linewidth=2, label='Limite max permitido')
plt.xlabel('Dia')
plt.legend()
plt.ylabel('Valor medio')
plt.show()
"""
df_measurement_dc = df_measurement_agost[
	~(df_measurement_agost.location_name == 'Near Bay 50 St')
]

media_dc = df_measurement_dc.groupby(df_measurement_dc.datetimeLocal.dt.day).agg(
	value_max = ('value', 'max'),
	value_min = ('value', 'min'),
	value_media = ('value','mean'),
	alerta = ('value',lambda x: (x>35).sum())
	)
"""
plt.figure(figsize=(10,6), num="Brookin Town PM2.5 media - August")
sns.barplot(data=media_dc, x='datetimeLocal', y='value_media' )
plt.title('Brooklin Town PM2.5 Media vs August \n')
plt.axhline(y=35, color='red', linestyle='--', linewidth=2, label='Limite max permitido')
plt.xlabel('Dia')
plt.ylabel('Valor medio')
plt.legend()
plt.show()
"""
# graficando puntos gps
import folium

m = folium.Map(location=[df_measurement_agost.latitude.mean(), 
						df_measurement_agost.longitude.mean()],zoom_start=12)

resumen = df_measurement_agost.groupby(['latitude', 'longitude']).agg(
    valor_maximo=('value', 'max'),
    valor_medio=('value', 'mean'),
    alertas=('value', lambda x: (x > 35).sum())  # cuenta cuántas veces superó 35
).reset_index()

for _, row in resumen.iterrows():
	folium.CircleMarker(location=[row['latitude'],row['longitude']],
		radius = 4,
		color= 'blue',
		fill= True,
		fill_opacity = 0.7,
	    popup=(f"Máximo: {row['valor_maximo']}<br>"
               f"Promedio: {row['valor_medio']:.1f}<br>"
               f"Alertas >35: {row['alertas']}")
    ).add_to(m)

m.save('mapa.html')