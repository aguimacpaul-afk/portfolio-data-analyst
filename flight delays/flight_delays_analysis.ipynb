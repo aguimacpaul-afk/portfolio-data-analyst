"""
📩 Asunto: Análisis mensual de retrasos de aerolíneas

Hola Paul,

Te comparto el archivo con los promedios de retrasos de diferentes aerolíneas durante los últimos 12 meses. Necesitamos que prepares un análisis que nos ayude a entender mejor el comportamiento de estas demoras.

Tareas solicitadas:

Revisión de datos

Verificar si el archivo tiene valores faltantes, inconsistencias o datos atípicos.

En caso de valores nulos, indicar qué aerolíneas o meses están afectados.

Análisis general

Calcular el retraso promedio anual por cada aerolínea.

Identificar qué aerolínea presenta mayores demoras y cuál tiene el mejor desempeño en puntualidad.

Detectar en qué meses se registran más retrasos de forma general (todas las aerolíneas).

Visualizaciones

Crear gráficos que muestren claramente las tendencias:

Comparación de aerolíneas en promedio anual.

Evolución mensual de retrasos para al menos 3 aerolíneas grandes.

Un gráfico que permita identificar estacionalidad (meses críticos).

Conclusiones

Preparar un resumen ejecutivo con insights clave, por ejemplo:

¿Hay aerolíneas consistentemente más puntuales?

¿Se observa un patrón estacional en los retrasos?

¿Qué recomendaciones podríamos dar con base en la información?

El análisis lo vamos a compartir con el área de operaciones, así que procura que el informe sea claro, con visualizaciones fáciles de interpretar y un resumen que vaya más allá de los números.

Gracias por tu apoyo.

Saludos,
Departamento de Operaciones

"""

import pandas as pd
import matplotlib.pyplot as plt
import seaborn as sns

path = "flight_delays.csv"

df = pd.read_csv(path)

#print(df.info()) faltan datos
#print(df.head(1))
#   Month        AA        AS        B6  ...        UA        US        VX        WN
#0      1  6.955843 -0.320888  7.347281  ...  6.352729  3.107457  1.420702  3.389466

#print(df.isnull().sum()) us tiene 6 nullos

#-------------------
## analisis general
#-------------------

#promedio anueal de retraso por aerolinea

delay_anual = df.drop(columns = 'Month').mean().sort_values(ascending=False)
#print(delay_anual)


#aerolinea con mayor y menor demora

max_delay = delay_anual.idxmax() # nk
min_delay = delay_anual.idxmin() # as

#Detectar en qué meses se registran más retrasos de forma general 

delay_mensual = df.drop(columns ='Month').mean(axis=1)
#print(delay_mensual)

df['delay'] = delay_mensual

#print(df[['Month','delay']])

#------
#visualization
#------

#delays promedios de todas las aerolinias
plt.figure(figsize=(10,6))
sns.barplot(x=delay_anual.index, 
	y=delay_anual.values, palette="viridis")
plt.title("Promedio anual de retrasos por aerolinea")
plt.ylabel("minutos de retraso promedio")
plt.xticks(rotation=45)
plt.show()

plt.figure(figsize=(10,6))

#retrasos mensuales en almenos tres aerolineas

for airline in ["AA", "DL", "WN"]:
    plt.plot(df["Month"], df[airline], marker="o", label=airline)
plt.legend()
plt.title("Evolución mensual de retrasos (AA, DL, WN)")
plt.xlabel("Mes")
plt.ylabel("Minutos de retraso")
plt.show()

#mes critico por estacionalidad

plt.figure(figsize=(12,6))
sns.heatmap(df.drop(columns=["delay", "Month"]).T, cmap="coolwarm", annot=True, cbar=True)
plt.title("Heatmap de retrasos por aerolínea y mes")
plt.ylabel("Aerolínea")
plt.xlabel("Mes")
plt.show()












