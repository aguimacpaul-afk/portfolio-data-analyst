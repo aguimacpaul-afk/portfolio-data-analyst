import sqlite3
import pandas as pd
import os

csv_folder = "/.../archive"
dfs={}
#['stores.csv', 'staffs.csv', 'orders.csv', 'customers.csv', 'products.csv', 
#'order_items.csv', 'brands.csv', 'mi_base.db', 'stocks.csv', 'categories.csv']

for i in os.listdir(csv_folder):
	if i.endswith(".csv"):
		filepath = os.path.join(csv_folder, i)
		i = os.path.splitext(i)[0]
		dfs[i] = pd.read_csv(filepath)

#ANALISIS EXPLORATORIO
"""
for name in dfs:
	print(dfs[name].head(),'\n')
"""

# Objetivo: Identificar a los clientes que más compras han hecho.

orders = dfs['orders']
"""
['order_id', 'customer_id', 'order_status', 'order_date', 
'required_date', 'shipped_date', 'store_id', 'staff_id']"""
customers = dfs['customers']
#['customer_id', 'first_name', 
#'last_name', 'phone', 'email', 'street', 'city', 'state', 'zip_code']

pedidos_cliente = orders.groupby('customer_id')['order_id'].count().reset_index()
"""      customer_id  order_id
0               1         3
1               2         3
2               3         3
3               4         3
4               5         3
...           ...       ...
1440         1441         1
1441         1442         1
1442         1443         1
1443         1444         1
1444         1445         1"""

pedidos_cliente = pedidos_cliente.merge(customers, on='customer_id')
pedidos_cliente = pedidos_cliente.sort_values(by = 'order_id', ascending=False)
"""      customer_id  order_id first_name  ...          city state zip_code
0               1         3      Debra  ...  Orchard Park    NY    14127
20             21         3      Tobie  ...      Victoria    TX    77904
29             30         3     Jamaal  ...      Torrance    CA    90505
30             31         3  Williemae  ...       Oakland    CA    94603
31             32         3    Araceli  ...     Fullerton    CA    92831
...           ...       ...        ...  ...           ...   ...      ...
566           567         1     Sheila  ...      Longview    TX    75604
565           566         1    Cinthia  ...  Lake Jackson    TX    77566
564           565         1      Dagny  ...    San Angelo    TX    76901
563           564         1     Bettie  ...   Farmingdale    NY    11735
1444         1445         1      Ester  ...   San Lorenzo    CA    94580"""
pedidos_cliente = pedidos_cliente.rename(columns={'order_id':'num_ventas'})
#print(pedidos_cliente[['customer_id','first_name','last_name','num_ventas']].head(10))

"""    customer_id first_name last_name  num_ventas
0             1      Debra     Burks         3
20           21      Tobie    Little         3
29           30     Jamaal    Albert         3
30           31  Williemae  Holloway         3
31           32    Araceli    Golden         3"""

#############-----#############-----#############

# total gastado por cada cliente, descending

order_items = dfs['order_items']

pedidos_detalles = orders.merge(order_items, on = 'order_id')
pedidos_detalles['Total'] = (pedidos_detalles['list_price']*(
							pedidos_detalles['quantity']-
							pedidos_detalles['discount'])).round(2)
"""      order_id  customer_id  order_status  ... list_price discount    Total
0            1          259             4  ...     599.99     0.20   479.99
1            1          259             4  ...    1799.99     0.07  3473.98
2            1          259             4  ...    1549.00     0.05  3020.55
3            1          259             4  ...     599.99     0.05  1169.98
4            1          259             4  ...    2899.99     0.20  2319.99
...        ...          ...           ...  ...        ...      ...      ...
4717      1614          135             3  ...    2299.99     0.07  4438.98
4718      1614          135             3  ...     269.99     0.20   485.98
4719      1615          136             3  ...    2299.99     0.20  4139.98
4720      1615          136             3  ...     899.99     0.07   836.99
4721      1615          136             3  ...    2499.99     0.20  1999.99"""

total_clientes = pedidos_detalles.groupby('customer_id')['Total'].sum().reset_index()
total_clientes = total_clientes.merge(customers, on = 'customer_id').sort_values(by='Total', ascending=False)
#print(total_clientes[['customer_id','first_name','last_name','Total']].head(10))
"""    customer_id first_name last_name     Total
93           94     Sharyn   Hopkins  35715.43
9            10    Pamelia    Newman  35585.74
74           75       Abby    Gamble  35009.99
5             6    Lyndsey      Bean  33503.51
72           73    Melanie     Hayes  33012.18"""

# DETERMINA LOS 5 PRODUCTOS MÁS VENDIDOS EN CANTIDAD.
#order_items y products

products = dfs['products']

top_productos = order_items.groupby('product_id')['quantity'].sum().reset_index()
top_productos = top_productos.merge(products, on= 'product_id')
top_productos = top_productos.sort_values(by='quantity', ascending=False).reset_index()

#print(top_productos[['product_name', 'quantity']].head())

"""
                                    product_name  quantity
0          Surly Ice Cream Truck Frameset - 2016       167
1             Electra Cruiser 1 (24-Inch) - 2016       157
2           Electra Townie Original 7D EQ - 2016       156
3                       Trek Slash 8 27.5 - 2016       154
4  Electra Girl's Hawaii 1 (20-inch) - 2015/2016       154"""


# OBJETIVO: ANALIZAR QUÉ CATEGORÍA DE PRODUCTOS GENERA MÁS VENTAS.
#products y order_detail

top_categoria = order_items.groupby('product_id')['quantity'].sum().reset_index()
top_categoria = top_categoria.merge(products, on = 'product_id')
top_categoria = top_categoria.sort_values(by='quantity', ascending=False).reset_index()

#print(top_categoria[['product_id','product_name','quantity']].head())
"""
   product_id                                   product_name  quantity
0           6          Surly Ice Cream Truck Frameset - 2016       167
1          13             Electra Cruiser 1 (24-Inch) - 2016       157
2          16           Electra Townie Original 7D EQ - 2016       156
3           7                       Trek Slash 8 27.5 - 2016       154
4          23  Electra Girl's Hawaii 1 (20-inch) - 2015/2016       154"""

#OBJETIVO: FILTRAR TODOS LOS PEDIDOS ENTRE DOS FECHAS. 2017 y 2018

orders['date'] = pd.to_datetime(orders['order_date'])
filtro = (orders['date'].dt.year == 2017 )
pedido_2017 = orders[filtro].reset_index()
"""
   index  order_id  customer_id  ...  store_id staff_id       date
0    635       636          532  ...         1        2 2017-01-03
1    636       637          512  ...         2        6 2017-01-03
2    637       638         1302  ...         2        7 2017-01-04
3    638       639          550  ...         2        6 2017-01-06
4    639       640         1093  ...         2        6 2017-01-06
5    640       641          673  ...         1        3 2017-01-07
6    641       642          847  ...         2        7 2017-01-07
7    642       643          901  ...         1        3 2017-01-08
8    643       644          439  ...         2        6 2017-01-08
9    644       645         1199  ...         2        6 2017-01-08"""

#OBJETIVO: ENCONTRAR CLIENTES QUE NO HAN REALIZADO NINGÚN PEDIDO.
clientes_sin_pedidos = customers.merge(orders, on="customer_id", how="left", indicator=True)


clientes_sin_pedidos = clientes_sin_pedidos[clientes_sin_pedidos["_merge"] == "left_only"]
#no hay clientes sin pedidos
print(clientes_sin_pedidos[["customer_id", "first_name",'last_name']])
