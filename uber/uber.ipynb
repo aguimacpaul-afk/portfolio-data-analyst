import pandas as pd
import matplotlib.pyplot as plt
import seaborn as sns

path = "/home/panda/Desktop/ia/github/uber/ncr_ride_bookings.csv"

df = pd.read_csv(path)
columnas = list(df.head(0))
"""
['Date', 'Time', 'Booking ID', 'Booking Status', 'Customer ID', 
'Vehicle Type', 'Pickup Location', 'Drop Location', 'Avg VTAT', 
'Avg CTAT', 'Cancelled Rides by Customer', 
'Reason for cancelling by Customer', 'Cancelled Rides by Driver', 
'Driver Cancellation Reason', 'Incomplete Rides', 'Incomplete Rides Reason', 
'Booking Value', 'Ride Distance', 'Driver Ratings', 'Customer Rating', 
'Payment Method']"""

# 1 ESTATUS DE LAS RESERVAS 'Booking Status'

reservas_status = df['Booking Status'].value_counts()
"""
Booking Status
Completed                93000
Cancelled by Driver      27000
No Driver Found          10500
Cancelled by Customer    10500
Incomplete                9000"""

# 1 PRINCIPALES RAZONES CANCELACION: (clientes y conductores).
r_clientes = df['Reason for cancelling by Customer'].value_counts()

r_driver = df['Driver Cancellation Reason'].value_counts()
"""
Reason for cancelling by Customer
Wrong Address                                   2362
Change of plans                                 2353
Driver is not moving towards pickup location    2335
Driver asked to cancel                          2295
AC is not working                               1155

Driver Cancellation Reason
Customer related issue                 6837
The customer was coughing/sick         6751
Personal & Car related issues          6726
More than permitted people in there    6686"""

# 2 Booking Value total y promedio por mes. 'Booking Value', 'Date'

df['Booking Value'].sum() # anual = 51846183

df.Date = pd.to_datetime(df.Date)

total_mes = df.groupby(df.Date.dt.to_period('M'))['Booking Value'].sum()
"""
Date
2024-01    4411069.0
2024-02    4085790.0
2024-03    4568188.0
2024-04    4253789.0
2024-05    4320679.0
2024-06    4325660.0
2024-07    4365923.0
2024-08    4243509.0
2024-09    4191393.0
2024-10    4417170.0
2024-11    4343395.0
2024-12    4319618.0"""

mean_mes = df.groupby(df.Date.dt.to_period('M'))['Booking Value'].mean().round(2)
"""
Date
2024-01    503.60
2024-02    507.61
2024-03    526.23
2024-04    509.01
2024-05    498.18
2024-06    509.20
2024-07    500.16
2024-08    498.36
2024-09    505.90
2024-10    509.71
2024-11    514.07
2024-12    517.82"""

# 2 Relación entre Ride Distance y Booking Value.

df['Ride Distance'] = pd.to_numeric(df['Ride Distance'], errors="coerce")
df['Booking Value'] = pd.to_numeric(df['Booking Value'], errors="coerce")

correlacion = df[
			'Ride Distance'].corr(df['Booking Value']) #0.005173977125101991

plt.figure(num="Ride Distance vs Booking Value")
sns.scatterplot(x=df['Ride Distance'], y= df["Booking Value"], alpha=0.5)
plt.title("Ride Distance vs Booking Value")
#plt.show()

# 2 Comparación de ingresos por tipo de vehículo y por método de pago.
# 'Payment Method' 'Vehicle Type'

ingreso_vehiculo = df.groupby('Vehicle Type')['Booking Value'].agg(
	Total_ingresos='sum',
	Promedio_ingresos='mean',
	Num_Viajes='count').reset_index()
"""
    Vehicle Type  Total_ingresos  Promedio_ingresos  Num_Viajes
0           Auto      12878422.0         506.725241       25415
1           Bike       7837697.0         510.200299       15362
2        Go Mini      10338496.0         507.684934       20364
3       Go Sedan       9369719.0         511.503385       18318
4  Premier Sedan       6275332.0         509.568169       12315
5        Uber XL       1528032.0         501.816749        3045
6          eBike       3618485.0         503.897090        7181"""

ingreso_pago = df.groupby('Payment Method')['Booking Value'].agg(
		Total_ingresos='sum',
	Promedio_ingresos='mean',
	Num_Viajes='count').reset_index()
"""
  Payment Method  Total_ingresos  Promedio_ingresos  Num_Viajes
0           Cash      12895649.0         508.363188       25367
1    Credit Card       5224025.0         511.707807       10209
2     Debit Card       4180510.0         507.405025        8239
3            UPI      23345101.0         508.508157       45909
4    Uber Wallet       6200898.0         505.123656       12276"""

ingresos_matrix = df.pivot_table(
	index= 'Vehicle Type',
	columns= 'Payment Method',
	values='Booking Value',
	aggfunc='sum',
	fill_value=0)
"""
Payment Method       Cash  Credit Card  Debit Card        UPI  Uber Wallet
Vehicle Type                                                              
Auto            3176564.0    1317543.0   1046125.0  5742165.0    1596025.0
Bike            1956260.0     805804.0    620374.0  3567834.0     887425.0
Go Mini         2615778.0    1010490.0    817976.0  4713298.0    1180954.0
Go Sedan        2380146.0     980528.0    762397.0  4130514.0    1116134.0
Premier Sedan   1511260.0     620618.0    519644.0  2877764.0     746046.0
Uber XL          394439.0     131488.0    129069.0   662907.0     210129.0
eBike            861202.0     357554.0    284925.0  1650619.0     464185.0"""

pago_vehiculo = df.groupby(['Payment Method', 'Vehicle Type'])['Booking Value'].sum().reset_index()


plt.figure(num="Vehicle Type vs Payment Method")
sns.barplot(
	data=pago_vehiculo,
	x='Payment Method',
	y='Booking Value',
	hue='Vehicle Type'
	)

# 3 Promedio de Driver Ratings y Customer Rating por tipo de vehículo.
# 'Driver Ratings', 'Customer Rating', 'Vehicle Type'

ratings = df.groupby('Vehicle Type').agg(
	driver_mean=('Driver Ratings', 'mean'),
	driver_min=('Driver Ratings', 'min'),
	customer_mean=('Customer Rating', 'mean'),
	customer_min=('Customer Rating', 'min'),
	).reset_index()
"""
    Vehicle Type  driver_mean  driver_min  customer_mean  customer_min
0           Auto     4.232369         3.0       4.402000           3.0
1           Bike     4.230056         3.0       4.403940           3.0
2        Go Mini     4.227694         3.0       4.404297           3.0
3       Go Sedan     4.231812         3.0       4.409996           3.0
4  Premier Sedan     4.234865         3.0       4.403457           3.0
5        Uber XL     4.238340         3.0       4.404851           3.0
6          eBike     4.225614         3.0       4.403954           3.0"""

ratings_longs = ratings.melt(
	id_vars='Vehicle Type',
	value_vars=['driver_mean','customer_mean'],
	var_name='Tipo de Rating',
	value_name='Promedio'
	)
"""
     Vehicle Type Tipo de Rating  Promedio
0            Auto    driver_mean  4.232369
1            Bike    driver_mean  4.230056
2         Go Mini    driver_mean  4.227694
3        Go Sedan    driver_mean  4.231812
4   Premier Sedan    driver_mean  4.234865
5         Uber XL    driver_mean  4.238340
6           eBike    driver_mean  4.225614
7            Auto  customer_mean  4.402000
8            Bike  customer_mean  4.403940
9         Go Mini  customer_mean  4.404297
10       Go Sedan  customer_mean  4.409996
11  Premier Sedan  customer_mean  4.403457
12        Uber XL  customer_mean  4.404851
13          eBike  customer_mean  4.403954"""

plt.figure(figsize=(10,6), num="Ratings vs Vehicle Type")
sns.barplot(data= ratings_longs,
			x='Vehicle Type',
			y='Promedio',
			hue='Tipo de Rating')
plt.title=("Ratings vs Vehicle Type")
plt.tight_layout()

# 4 Tiempo medio de llegada del vehículo (Avg VTAT) y de completitud (Avg CTAT).

kpi_vtat = df['Avg VTAT'].mean() #29.149636274509803
kpi_ctat = df['Avg CTAT'].mean() #8.456351971326164

kpi_mensual = df.groupby(df["Date"].dt.to_period("M"))[["Avg VTAT", 
				"Avg CTAT"]].mean().reset_index()
"""
       Date  Avg VTAT   Avg CTAT
0   2024-01  8.464512  29.170739
1   2024-02  8.401453  29.117008
2   2024-03  8.483199  29.243624
3   2024-04  8.425086  29.305301
4   2024-05  8.500445  29.192840
5   2024-06  8.449784  29.008793
6   2024-07  8.406404  28.963799
7   2024-08  8.403632  29.070476
8   2024-09  8.476278  29.168847
9   2024-10  8.544000  29.086372
10  2024-11  8.415217  29.182803
11  2024-12  8.502803  29.292028"""

df_kpi = kpi_mensual.melt(
	id_vars = "Date",
	value_vars = ['Avg VTAT', 'Avg CTAT'],
	var_name = 'Indicador',
	value_name = "Minutos"
	)
df_kpi['Date_str'] = df_kpi['Date'].astype(str)
plt.figure(num="VTAT vs CTAT")
sns.lineplot(data=df_kpi,x='Date_str',y='Minutos',hue='Indicador',marker='o')
#plt.title("VTAT vs CTAT")
plt.xticks(rotation=45)
plt.ylabel("Minutos")
plt.xlabel('Mes')
plt.legend()
plt.show()